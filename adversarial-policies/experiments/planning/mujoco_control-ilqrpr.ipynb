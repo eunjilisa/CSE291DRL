{
 "cells": [
  {
   "cell_type": "code",
   "execution_count": 1,
   "metadata": {},
   "outputs": [
    {
     "name": "stderr",
     "output_type": "stream",
     "text": [
      "WARNING (theano.configdefaults): install mkl with `conda install mkl-service`: No module named 'mkl'\n"
     ]
    },
    {
     "name": "stdout",
     "output_type": "stream",
     "text": [
      "Logging to /tmp/openai-2019-02-03-10-03-49-574699\n",
      "Choosing the latest nvidia driver: /usr/lib/nvidia-396, among ['/usr/lib/nvidia-375', '/usr/lib/nvidia-396']\n",
      "Choosing the latest nvidia driver: /usr/lib/nvidia-396, among ['/usr/lib/nvidia-375', '/usr/lib/nvidia-396']\n"
     ]
    }
   ],
   "source": [
    "from ilqr import iLQR\n",
    "import gym\n",
    "import numpy as np\n",
    "import pandas as pd\n",
    "import time\n",
    "\n",
    "from aprl.agents import MujocoFiniteDiffDynamicsPerformance\n",
    "from aprl.envs.mujoco_costs import get_cost\n",
    "from experiments.common import set_seeds, make_env, fit_ilqr, \\\n",
    "                               on_iteration, receding, multi_evaluate"
   ]
  },
  {
   "cell_type": "code",
   "execution_count": 25,
   "metadata": {},
   "outputs": [],
   "source": [
    "from ilqr.cost import BatchAutoDiffCost\n",
    "from theano import tensor as T\n",
    "\n",
    "class DemoCost(BatchAutoDiffCost):\n",
    "    def __init__(self, axis):\n",
    "        def f(x, u, i, terminal):\n",
    "            if terminal:\n",
    "                control_cost = T.zeros_like(x[..., 0])\n",
    "            else:\n",
    "                control_cost = T.square(u).sum(axis=axis)\n",
    "            \n",
    "            foo = x[..., 0:1]\n",
    "            state_cost = T.sqrt(T.sum(T.square(foo), axis=axis))\n",
    "            cost = state_cost + control_cost\n",
    "            return cost\n",
    "\n",
    "        super().__init__(f, state_size=2, action_size=2)\n",
    "\n",
    "class WorkingCost(BatchAutoDiffCost):\n",
    "    \"\"\"Differentiable cost for the Reacher-v2 Gym environment.\n",
    "       See base class for more details.\"\"\"\n",
    "    def __init__(self):\n",
    "        def f(x, u, i, terminal):\n",
    "            if terminal:\n",
    "                ctrl_cost = T.zeros_like(x[..., 0])\n",
    "            else:\n",
    "                ctrl_cost = T.square(u).sum(axis=-1)\n",
    "\n",
    "            # x: (batch_size, 8)\n",
    "            # x[..., 0:4]: qpos\n",
    "            # x[..., 4:8]: qvel, time derivatives of qpos, not used in the cost.\n",
    "            theta = x[..., 0]  # qpos[0]: angle of joint 0\n",
    "            phi = x[..., 1]  # qpos[1]: angle of joint 1\n",
    "            target_xpos = x[..., 2:4]  # qpos[2:4], target x & y coordinate\n",
    "            body1_xpos = 0.1 * T.stack([T.cos(theta), T.sin(theta)], axis=1)\n",
    "            tip_xpos_incr = 0.11 * T.stack([T.cos(phi), T.sin(phi)], axis=1)\n",
    "            tip_xpos = body1_xpos + tip_xpos_incr\n",
    "            delta = tip_xpos - target_xpos\n",
    "\n",
    "            state_cost = T.sqrt(T.sum(delta * delta, axis=-1))\n",
    "            cost = state_cost + ctrl_cost\n",
    "\n",
    "            return cost\n",
    "\n",
    "        super().__init__(f, state_size=8, action_size=2)\n",
    "        \n",
    "class BrokenCost(BatchAutoDiffCost):\n",
    "    \"\"\"Differentiable cost for the Reacher-v2 Gym environment.\n",
    "       See base class for more details.\"\"\"\n",
    "    def __init__(self):\n",
    "        def f(x, u, i, terminal):\n",
    "            if terminal:\n",
    "                ctrl_cost = T.zeros_like(x[..., 0])\n",
    "            else:\n",
    "                ctrl_cost = T.square(u).sum(axis=-1)\n",
    "\n",
    "            # x: (batch_size, 8)\n",
    "            # x[..., 0:4]: qpos\n",
    "            # x[..., 4:8]: qvel, time derivatives of qpos, not used in the cost.\n",
    "            theta = x[..., 0]  # qpos[0]: angle of joint 0\n",
    "            phi = x[..., 1]  # qpos[1]: angle of joint 1\n",
    "            target_xpos = x[..., 2:4]  # qpos[2:4], target x & y coordinate\n",
    "            body1_xpos = 0.1 * T.stack([T.cos(theta), T.sin(theta)], axis=1)\n",
    "            tip_xpos_incr = 0.11 * T.stack([T.cos(phi), T.sin(phi)], axis=1)\n",
    "            tip_xpos = body1_xpos + tip_xpos_incr\n",
    "            delta = tip_xpos - target_xpos\n",
    "\n",
    "            state_cost = T.sqrt(T.sum(delta * delta, axis=0))\n",
    "            cost = state_cost + ctrl_cost\n",
    "\n",
    "            return cost\n",
    "\n",
    "        super().__init__(f, state_size=8, action_size=2)"
   ]
  },
  {
   "cell_type": "code",
   "execution_count": 26,
   "metadata": {},
   "outputs": [
    {
     "name": "stderr",
     "output_type": "stream",
     "text": [
      "ERROR (theano.gof.opt): Optimization failure due to: constant_folding\n",
      "ERROR (theano.gof.opt): node: Elemwise{mul,no_inplace}(TensorConstant{[[1.]\n",
      " [0.]]}, TensorConstant{(1, 2) of 1.0})\n",
      "ERROR (theano.gof.opt): TRACEBACK:\n",
      "ERROR (theano.gof.opt): Traceback (most recent call last):\n",
      "  File \"/home/adam/bin/anaconda3/envs/aprl/lib/python3.6/site-packages/theano/gof/opt.py\", line 2034, in process_node\n",
      "    replacements = lopt.transform(node)\n",
      "  File \"/home/adam/bin/anaconda3/envs/aprl/lib/python3.6/site-packages/theano/tensor/opt.py\", line 6518, in constant_folding\n",
      "    required = thunk()\n",
      "  File \"/home/adam/bin/anaconda3/envs/aprl/lib/python3.6/site-packages/theano/gof/op.py\", line 862, in rval\n",
      "    thunk()\n",
      "  File \"/home/adam/bin/anaconda3/envs/aprl/lib/python3.6/site-packages/theano/gof/cc.py\", line 1735, in __call__\n",
      "    reraise(exc_type, exc_value, exc_trace)\n",
      "  File \"/home/adam/bin/anaconda3/envs/aprl/lib/python3.6/site-packages/six.py\", line 693, in reraise\n",
      "    raise value\n",
      "ValueError: Input dimension mis-match. (input[0].shape[1] = 1, input[1].shape[1] = 2)\n",
      "\n"
     ]
    },
    {
     "name": "stdout",
     "output_type": "stream",
     "text": [
      "DemoCost(axis=1) failed with Not enough dimensions on Elemwise{sqr,no_inplace}.0 to reduce on axis 1\n"
     ]
    }
   ],
   "source": [
    "wcost = DemoCost(axis=-1)\n",
    "bcost0 = DemoCost(axis=0)\n",
    "try:\n",
    "    bcost1 = DemoCost(axis=1)\n",
    "except Exception as e:\n",
    "    print('DemoCost(axis=1) failed with', e)"
   ]
  },
  {
   "cell_type": "code",
   "execution_count": 22,
   "metadata": {},
   "outputs": [],
   "source": [
    "import numpy as np\n",
    "\n",
    "x = np.random.rand(8)\n",
    "u = np.random.rand(2)"
   ]
  },
  {
   "cell_type": "code",
   "execution_count": 27,
   "metadata": {},
   "outputs": [
    {
     "name": "stdout",
     "output_type": "stream",
     "text": [
      "l True\n",
      "l_x True\n",
      "l_u True\n",
      "l_xx False\n",
      "l_uu True\n"
     ]
    }
   ],
   "source": [
    "def similar(x, y):\n",
    "    x = abs(x - y) < 1e-8\n",
    "    if np.isscalar(x):\n",
    "        return x\n",
    "    else:\n",
    "        return x.all()\n",
    "print('l', similar(wcost.l(x, u, [0]), bcost0.l(x, u, [0])))\n",
    "print('l_x', similar(wcost.l_x(x, u, 0), bcost0.l_x(x, u, 0)))\n",
    "print('l_u', similar(wcost.l_u(x, u, 0), bcost0.l_u(x, u, 0)))\n",
    "print('l_xx', similar(wcost.l_xx(x, u, 0), bcost0.l_xx(x, u, 0)))\n",
    "print('l_uu', similar(wcost.l_uu(x, u, 0), bcost0.l_uu(x, u, 0)))"
   ]
  },
  {
   "cell_type": "code",
   "execution_count": 24,
   "metadata": {},
   "outputs": [
    {
     "name": "stdout",
     "output_type": "stream",
     "text": [
      "l True\n",
      "l_x True\n",
      "l_u True\n",
      "l_xx False\n",
      "l_uu True\n"
     ]
    }
   ],
   "source": [
    "wcostf = WorkingCost()\n",
    "bcostf = BrokenCost()\n",
    "print('l', similar(wcostf.l(x, u, [0]), bcostf.l(x, u, [0])))\n",
    "print('l_x', similar(wcostf.l_x(x, u, 0), bcostf.l_x(x, u, 0)))\n",
    "print('l_u', similar(wcostf.l_u(x, u, 0), bcostf.l_u(x, u, 0)))\n",
    "print('l_xx', similar(wcostf.l_xx(x, u, 0), bcostf.l_xx(x, u, 0)))\n",
    "print('l_uu', similar(wcostf.l_uu(x, u, 0), bcostf.l_uu(x, u, 0)))"
   ]
  },
  {
   "cell_type": "code",
   "execution_count": 8,
   "metadata": {},
   "outputs": [
    {
     "name": "stdout",
     "output_type": "stream",
     "text": [
      "dict_keys(['performance'])\n",
      "*** Fitting performance ***\n",
      "iteration 0 accepted 8.861193226544234 [-3.52186781  0.69727993  0.02243766  0.07369059 -8.35248998 -0.61676626\n",
      "  0.          0.        ] [-0.05328001 -0.14284116]\n",
      "iteration 1 accepted 8.266717338733763 [-3.49583825  0.7658604   0.02243766  0.07369059 -8.32863992 -0.49937366\n",
      "  0.          0.        ] [-0.01209801 -0.05909925]\n",
      "iteration 2 accepted 8.104386993643296 [-3.32992403  0.87136392  0.02243766  0.07369059 -8.09216039 -0.36647474\n",
      "  0.          0.        ] [-0.0295018  -0.01665231]\n",
      "iteration 3 accepted 7.518675510352434 [-1.72845306  1.83136225  0.02243766  0.07369059 -5.28381334  1.47827829\n",
      "  0.          0.        ] [-0.04382504 -0.02880142]\n",
      "iteration 4 failed 7.518675510352435 [-1.72845306  1.83136225  0.02243766  0.07369059 -5.28381334  1.47827829\n",
      "  0.          0.        ] [-0.04382504 -0.02880142]\n",
      "iteration 5 accepted 7.514264455609661 [-1.6299537   1.87320724  0.02243766  0.07369059 -4.93110861  1.61710136\n",
      "  0.          0.        ] [-0.04243485 -0.02788196]\n",
      "iteration 6 failed 7.514264455609661 [-1.6299537   1.87320724  0.02243766  0.07369059 -4.93110861  1.61710136\n",
      "  0.          0.        ] [-0.04243485 -0.02788196]\n",
      "iteration 7 failed 7.514264455609661 [-1.6299537   1.87320724  0.02243766  0.07369059 -4.93110861  1.61710136\n",
      "  0.          0.        ] [-0.04243485 -0.02788196]\n",
      "iteration 8 accepted 7.513204753224438 [-1.62327579  1.87431008  0.02243766  0.07369059 -4.87631767  1.6338842\n",
      "  0.          0.        ] [-0.04204722 -0.02762588]\n",
      "iteration 9 failed 7.513204753224438 [-1.62327579  1.87431008  0.02243766  0.07369059 -4.87631767  1.6338842\n",
      "  0.          0.        ] [-0.04204722 -0.02762588]\n",
      "iteration 10 failed 7.513204753224438 [-1.62327579  1.87431008  0.02243766  0.07369059 -4.87631767  1.6338842\n",
      "  0.          0.        ] [-0.04204722 -0.02762588]\n",
      "iteration 11 accepted 6.979822737785144 [ 0.21927763  2.71972089  0.02243766  0.07369059 -1.24994948  3.13679116\n",
      "  0.          0.        ] [-0.07119247 -0.03553347]\n",
      "iteration 12 accepted 6.711049629041552 [-0.38090125  2.48465669  0.02243766  0.07369059  0.152403    2.69647059\n",
      "  0.          0.        ] [-0.02191196  0.00687125]\n",
      "iteration 13 accepted 6.529258606994044 [0.20085212 2.64390593 0.02243766 0.07369059 1.64545021 3.0612505\n",
      " 0.         0.        ] [-0.01843332  0.00507681]\n",
      "iteration 14 accepted 6.47460373519374 [-0.10322781  2.5363321   0.02243766  0.07369059  0.92935471  3.08042909\n",
      "  0.          0.        ] [ 3.494388e-04 -9.332269e-06]\n",
      "iteration 15 accepted 6.4663970658828305 [0.14856525 2.65670065 0.02243766 0.07369059 1.55286831 3.54354918\n",
      " 0.         0.        ] [ 9.77807358e-05 -1.26092655e-05]\n",
      "iteration 16 accepted 6.440386806483849 [-0.02656596  2.58725404  0.02243766  0.07369059  1.11743163  3.36976965\n",
      "  0.          0.        ] [0. 0.]\n",
      "iteration 17 accepted 6.429111021807431 [0.07111809 2.66268063 0.02243766 0.07369059 1.22824813 3.72406938\n",
      " 0.         0.        ] [0. 0.]\n",
      "iteration 18 accepted 6.42541123404748 [0.03714029 2.66344103 0.02243766 0.07369059 1.18464539 3.73782181\n",
      " 0.         0.        ] [0. 0.]\n",
      "iteration 19 accepted 6.425355796890346 [0.04916832 2.6544991  0.02243766 0.07369059 1.19975364 3.72604372\n",
      " 0.         0.        ] [0. 0.]\n",
      "iteration 20 accepted 6.425213996706494 [0.05181856 2.67679989 0.02243766 0.07369059 1.20211714 3.78065237\n",
      " 0.         0.        ] [0. 0.]\n",
      "iteration 21 accepted 6.424574727221705 [0.05232334 2.66759519 0.02243766 0.07369059 1.20240733 3.75648784\n",
      " 0.         0.        ] [0. 0.]\n",
      "iteration 22 converged 6.424570958815788 [0.04733249 2.66817419 0.02243766 0.07369059 1.16842146 3.78290474\n",
      " 0.         0.        ] [0. 0.]\n",
      "*** Fitted performance in 1.1815073490142822s ***\n"
     ]
    }
   ],
   "source": [
    "xs, us = fit_ilqr(ilqrs, x0s, us_init)"
   ]
  },
  {
   "cell_type": "markdown",
   "metadata": {},
   "source": [
    "# Receding horizon"
   ]
  },
  {
   "cell_type": "code",
   "execution_count": null,
   "metadata": {},
   "outputs": [],
   "source": [
    "for k, ilqr in ilqrs.items():\n",
    "    underlying = 'receding_' + k\n",
    "    dynamics[underlying] = dynamics[k]\n",
    "    x0s[underlying] = x0s[k]\n",
    "    xs[underlying], us[underlying] = receding(ilqr, x0s[k], us_init, seed=seed)"
   ]
  },
  {
   "cell_type": "markdown",
   "metadata": {},
   "source": [
    "# Rollouts"
   ]
  },
  {
   "cell_type": "code",
   "execution_count": null,
   "metadata": {},
   "outputs": [],
   "source": [
    "multi_evaluate(env, dynamics, x0s, us)"
   ]
  }
 ],
 "metadata": {
  "kernelspec": {
   "display_name": "Python 3",
   "language": "python",
   "name": "python3"
  },
  "language_info": {
   "codemirror_mode": {
    "name": "ipython",
    "version": 3
   },
   "file_extension": ".py",
   "mimetype": "text/x-python",
   "name": "python",
   "nbconvert_exporter": "python",
   "pygments_lexer": "ipython3",
   "version": "3.6.7"
  }
 },
 "nbformat": 4,
 "nbformat_minor": 2
}
